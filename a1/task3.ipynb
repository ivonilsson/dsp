{
 "cells": [
  {
   "cell_type": "markdown",
   "metadata": {},
   "source": [
    "# Task 3\n",
    "hola seniorita"
   ]
  },
  {
   "cell_type": "code",
   "execution_count": null,
   "metadata": {},
   "outputs": [],
   "source": [
    "import pandas as pd"
   ]
  },
  {
   "cell_type": "markdown",
   "metadata": {},
   "source": [
    "# Read File"
   ]
  },
  {
   "cell_type": "code",
   "execution_count": null,
   "metadata": {},
   "outputs": [],
   "source": [
    "df = pd.read_csv('JO0104D3_20250411-135149.csv', encoding='ISO-8859-1', na_values=['..'])\n",
    "\n",
    "df.head(20)"
   ]
  },
  {
   "cell_type": "markdown",
   "metadata": {},
   "source": [
    "# Clean data from NaN values"
   ]
  },
  {
   "cell_type": "code",
   "execution_count": null,
   "metadata": {},
   "outputs": [],
   "source": [
    "df.fillna(0, inplace=True)\n",
    "\n",
    "if df.isna().any(axis=None):\n",
    "    print('Df contains NaN values')\n",
    "\n",
    "df.head(20)\n",
    "\n",
    "print(df.columns)"
   ]
  },
  {
   "cell_type": "markdown",
   "metadata": {},
   "source": [
    "# Reformat to prepare for pivot\n",
    "\n",
    "In its current format its quite wide, with the year columns, so we want to create one column called \"year\" holding the values of current columns 1981, 1985 etc.\n",
    "This can be accomplished using melt, this allows for easier grouping by year.\n"
   ]
  },
  {
   "cell_type": "code",
   "execution_count": null,
   "metadata": {},
   "outputs": [],
   "source": [
    "year_columns = ['1981', '1985', '1989', '1990', '1991', '1992', '1993', '1994', '1995', '1999', '2001', '2002', '2003', '2005']\n",
    "\n",
    "# Melt the DataFrame\n",
    "df_long = df.melt(id_vars=['region', 'crop'], value_vars=year_columns, var_name='year', value_name='value')\n",
    "\n",
    "df_long['year'] = df_long['year'].astype(int)\n",
    "\n",
    "df_long.head()"
   ]
  },
  {
   "cell_type": "markdown",
   "metadata": {},
   "source": [
    "# Pivot\n",
    "\n",
    "By now pivoting on the crop, we follow the principle in Data Science that each row should be an observation and each column should be a variable."
   ]
  },
  {
   "cell_type": "code",
   "execution_count": null,
   "metadata": {},
   "outputs": [],
   "source": [
    "\n",
    "pivoted_df = df_long.pivot(index=['region', 'year'], columns='crop', values='value')\n",
    "\n",
    "#print(len(pivoted_df.columns))\n",
    "#print(len(pivoted_df))\n",
    "\n",
    "pivoted_df.head(20)"
   ]
  },
  {
   "cell_type": "markdown",
   "metadata": {},
   "source": [
    "# Flatten df\n",
    "\n",
    "Flatten the DF for easier handling, now its easy to access each row."
   ]
  },
  {
   "cell_type": "code",
   "execution_count": null,
   "metadata": {},
   "outputs": [],
   "source": [
    "pivoted_df.columns.name = None\n",
    "pivoted_df.reset_index(inplace=True)\n",
    "\n",
    "pd.set_option(\"display.max_columns\", None)\n",
    "\n",
    "pivoted_df.head(30)"
   ]
  }
 ],
 "metadata": {
  "kernelspec": {
   "display_name": "venv",
   "language": "python",
   "name": "python3"
  },
  "language_info": {
   "codemirror_mode": {
    "name": "ipython",
    "version": 3
   },
   "file_extension": ".py",
   "mimetype": "text/x-python",
   "name": "python",
   "nbconvert_exporter": "python",
   "pygments_lexer": "ipython3",
   "version": "3.12.3"
  }
 },
 "nbformat": 4,
 "nbformat_minor": 2
}

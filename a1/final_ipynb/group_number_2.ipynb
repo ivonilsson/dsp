{
 "cells": [
  {
   "cell_type": "markdown",
   "id": "4e6b8036",
   "metadata": {},
   "source": [
    "# Task 1\n",
    "salam aleikum habob\n"
   ]
  },
  {
   "cell_type": "code",
   "execution_count": 1,
   "id": "058b2a5b",
   "metadata": {},
   "outputs": [],
   "source": [
    "import pandas as pd"
   ]
  },
  {
   "cell_type": "markdown",
   "id": "89ccc037",
   "metadata": {},
   "source": [
    "# Task 2\n",
    "guten tag mein freund"
   ]
  },
  {
   "cell_type": "code",
   "execution_count": 1,
   "id": "89c37f8f",
   "metadata": {},
   "outputs": [],
   "source": [
    "import pandas as pd"
   ]
  },
  {
   "cell_type": "markdown",
   "id": "e6bbdd54",
   "metadata": {},
   "source": [
    "# Task 3\n",
    "hola seniorita"
   ]
  },
  {
   "cell_type": "code",
   "execution_count": 1,
   "id": "c5faf02f",
   "metadata": {},
   "outputs": [],
   "source": [
    "import pandas as pd"
   ]
  }
 ],
 "metadata": {},
 "nbformat": 4,
 "nbformat_minor": 5
}

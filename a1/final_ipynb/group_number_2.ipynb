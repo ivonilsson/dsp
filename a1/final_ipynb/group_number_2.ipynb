{
 "cells": [
  {
   "cell_type": "markdown",
   "id": "308ce237",
   "metadata": {},
   "source": [
    "# Task 1\n",
    "salam aleikum habob\n"
   ]
  },
  {
   "cell_type": "code",
   "execution_count": 1,
   "id": "fa9dd4c2",
   "metadata": {},
   "outputs": [],
   "source": [
    "import pandas as pd"
   ]
  },
  {
   "cell_type": "markdown",
   "id": "44e14ac7",
   "metadata": {},
   "source": [
    "# Task 2\n",
    "guten tag mein freund"
   ]
  },
  {
   "cell_type": "code",
   "execution_count": 1,
   "id": "47b0ac9a",
   "metadata": {},
   "outputs": [],
   "source": [
    "import pandas as pd"
   ]
  },
  {
   "cell_type": "markdown",
   "id": "07a2c3d0",
   "metadata": {},
   "source": [
    "# Task 3\n",
    "hola seniorita"
   ]
  },
  {
   "cell_type": "code",
   "execution_count": 1,
   "id": "a763b19e",
   "metadata": {},
   "outputs": [],
   "source": [
    "import pandas as pd"
   ]
  }
 ],
 "metadata": {},
 "nbformat": 4,
 "nbformat_minor": 5
}

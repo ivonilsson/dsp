{
 "cells": [
  {
   "cell_type": "markdown",
   "id": "32e08ab8",
   "metadata": {},
   "source": [
    "# Task 1\n",
    "salam aleikum habob\n"
   ]
  },
  {
   "cell_type": "code",
   "execution_count": 1,
   "id": "ae4174d3",
   "metadata": {},
   "outputs": [],
   "source": [
    "import pandas as pd"
   ]
  },
  {
   "cell_type": "markdown",
   "id": "3f778bf4",
   "metadata": {},
   "source": [
    "# Task 2\n",
    "guten tag mein freund"
   ]
  },
  {
   "cell_type": "code",
   "execution_count": 1,
   "id": "3d0cefad",
   "metadata": {},
   "outputs": [],
   "source": [
    "import pandas as pd"
   ]
  },
  {
   "cell_type": "markdown",
   "id": "a9b70f45",
   "metadata": {},
   "source": [
    "# Task 3\n",
    "hola seniorita"
   ]
  },
  {
   "cell_type": "code",
   "execution_count": 1,
   "id": "34beaf05",
   "metadata": {},
   "outputs": [],
   "source": [
    "import pandas as pd"
   ]
  }
 ],
 "metadata": {},
 "nbformat": 4,
 "nbformat_minor": 5
}

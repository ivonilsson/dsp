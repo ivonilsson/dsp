{
 "cells": [
  {
   "cell_type": "markdown",
   "id": "36f49106",
   "metadata": {},
   "source": [
    "# Task 1\n",
    "salam aleikum habob\n"
   ]
  },
  {
   "cell_type": "code",
   "execution_count": 1,
   "id": "af52ed5f",
   "metadata": {},
   "outputs": [],
   "source": [
    "import pandas as pd"
   ]
  },
  {
   "cell_type": "markdown",
   "id": "3ec48967",
   "metadata": {},
   "source": [
    "# Task 2\n",
    "guten tag mein freund"
   ]
  },
  {
   "cell_type": "code",
   "execution_count": 1,
   "id": "ba6eb6f1",
   "metadata": {},
   "outputs": [],
   "source": [
    "import pandas as pd"
   ]
  },
  {
   "cell_type": "markdown",
   "id": "b5a39646",
   "metadata": {},
   "source": [
    "# Task 3\n",
    "hola senior"
   ]
  },
  {
   "cell_type": "code",
   "execution_count": 1,
   "id": "d53e3811",
   "metadata": {},
   "outputs": [],
   "source": [
    "import pandas as pd"
   ]
  }
 ],
 "metadata": {},
 "nbformat": 4,
 "nbformat_minor": 5
}

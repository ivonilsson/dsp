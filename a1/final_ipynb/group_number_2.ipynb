{
 "cells": [
  {
   "cell_type": "markdown",
   "id": "7124c3a1",
   "metadata": {},
   "source": [
    "# Task 1\n",
    "salam aleikum habob\n"
   ]
  },
  {
   "cell_type": "code",
   "execution_count": 1,
   "id": "628794b9",
   "metadata": {},
   "outputs": [],
   "source": [
    "import pandas as pd"
   ]
  },
  {
   "cell_type": "markdown",
   "id": "ba90e954",
   "metadata": {},
   "source": [
    "# Task 2\n",
    "guten tag mein freund"
   ]
  },
  {
   "cell_type": "code",
   "execution_count": 1,
   "id": "60ab0094",
   "metadata": {},
   "outputs": [],
   "source": [
    "import pandas as pd"
   ]
  },
  {
   "cell_type": "markdown",
   "id": "8cb75e17",
   "metadata": {},
   "source": [
    "# Task 3\n",
    "hola senior"
   ]
  },
  {
   "cell_type": "code",
   "execution_count": 1,
   "id": "5f01da68",
   "metadata": {},
   "outputs": [],
   "source": [
    "import pandas as pd"
   ]
  }
 ],
 "metadata": {},
 "nbformat": 4,
 "nbformat_minor": 5
}

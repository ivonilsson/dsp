{
 "cells": [
  {
   "cell_type": "markdown",
   "id": "8e88f97f",
   "metadata": {},
   "source": [
    "# Imports"
   ]
  },
  {
   "cell_type": "code",
   "execution_count": null,
   "id": "3bbfa7dd",
   "metadata": {},
   "outputs": [],
   "source": [
    "import pandas as pd\n",
    "import seaborn as sns\n",
    "import matplotlib.pyplot as plt\n",
    "from sklearn.decomposition import PCA\n",
    "from sklearn.manifold import TSNE\n",
    "from sklearn.cluster import KMeans"
   ]
  },
  {
   "cell_type": "markdown",
   "id": "7a95fa8b",
   "metadata": {},
   "source": [
    "## Load dataset"
   ]
  },
  {
   "cell_type": "code",
   "execution_count": null,
   "id": "2695de70",
   "metadata": {},
   "outputs": [],
   "source": [
    "import pandas as pd\n",
    "df = pd.read_csv('JO_pivoted.csv')\n",
    "print(df.columns)\n",
    "df"
   ]
  },
  {
   "cell_type": "markdown",
   "id": "469945f3",
   "metadata": {},
   "source": [
    "### Lets select some features for dimensionality reduction\n",
    "We will also run k-Means clustering to assign some colors to the clusters"
   ]
  },
  {
   "cell_type": "code",
   "execution_count": null,
   "id": "ffb41cec",
   "metadata": {},
   "outputs": [],
   "source": [
    "\n",
    "#['barley', 'fallow land', 'oats', 'spring barley', 'spring wheat', 'total arable land', 'winter barley', 'winter rape', 'winter turnip rape', 'winter wheat']\n",
    "crop_features = ['barley', 'fallow land', 'oats', 'spring barley', 'spring wheat', 'total arable land', 'winter barley', 'winter rape', 'winter turnip rape', 'winter wheat']\n",
    "X_crop = df[crop_features]\n",
    "\n",
    "kmeans = KMeans(n_clusters=4, random_state=0, n_init=10)\n",
    "df['crop_cluster'] = kmeans.fit_predict(X_crop)\n",
    "\n",
    "# PCA\n",
    "pca = PCA(n_components=2)\n",
    "crop_pca = pca.fit_transform(X_crop)\n",
    "crop_pca_df = pd.DataFrame(crop_pca, columns=[\"PC1\", \"PC2\"])\n",
    "crop_pca_df.index = X_crop.index\n",
    "crop_pca_df[\"cluster\"] = df.loc[X_crop.index, 'crop_cluster']\n",
    "\n",
    "# t-SNE function\n",
    "def run_tsne(perplexity=30, random_state=0):\n",
    "    tsne = TSNE(n_components=2, learning_rate='auto', init='random', perplexity=perplexity, random_state=random_state)\n",
    "    embedding = tsne.fit_transform(X_crop)\n",
    "    emb_df = pd.DataFrame(embedding, columns=[\"TSNE1\", \"TSNE2\"])\n",
    "    emb_df.index = X_crop.index\n",
    "    emb_df[\"cluster\"] = df.loc[X_crop.index, 'crop_cluster']\n",
    "    return emb_df\n",
    "\n",
    "# Plot PCA\n",
    "plt.figure(figsize=(8,6))\n",
    "sns.scatterplot(x=\"PC1\", y=\"PC2\", hue=\"cluster\", data=crop_pca_df, palette=\"tab10\")\n",
    "plt.title('PCA of Crop Features (colored by cluster)')\n",
    "plt.show()\n",
    "\n",
    "# Plot t-SNE for different perplexities\n",
    "perplexities = [5, 10, 25, 50, 100]\n",
    "fig, axes = plt.subplots(1, len(perplexities), figsize=(20,5))\n",
    "for i, p in enumerate(perplexities):\n",
    "    tsne_df = run_tsne(perplexity=p)\n",
    "    sns.scatterplot(ax=axes[i], x=\"TSNE1\", y=\"TSNE2\", hue=\"cluster\", data=tsne_df, palette=\"tab10\", legend=False)\n",
    "    axes[i].set_title(f't-SNE (perplexity={p})')\n",
    "plt.tight_layout()\n",
    "plt.show()\n",
    "\n"
   ]
  },
  {
   "cell_type": "markdown",
   "id": "5a7464aa",
   "metadata": {},
   "source": [
    "## Lets reduce the dimensions by both methods"
   ]
  },
  {
   "cell_type": "code",
   "execution_count": null,
   "id": "5a4aa407",
   "metadata": {},
   "outputs": [],
   "source": [
    "pca = PCA(n_components=2)\n",
    "crop_pca = pca.fit_transform(X_crop)\n",
    "crop_pca_df = pd.DataFrame(crop_pca, columns=[\"PC1\", \"PC2\"])\n",
    "crop_pca_df.index = X_crop.index\n",
    "crop_pca_df[\"cluster\"] = df.loc[X_crop.index, 'crop_cluster']\n",
    "\n",
    "def run_tsne(perplexity=30, random_state=0):\n",
    "    tsne = TSNE(n_components=2, learning_rate='auto', init='random', perplexity=perplexity, random_state=random_state)\n",
    "    embedding = tsne.fit_transform(X_crop)\n",
    "    emb_df = pd.DataFrame(embedding, columns=[\"TSNE1\", \"TSNE2\"])\n",
    "    emb_df.index = X_crop.index\n",
    "    emb_df[\"cluster\"] = df.loc[X_crop.index, 'crop_cluster']\n",
    "    return emb_df"
   ]
  },
  {
   "cell_type": "markdown",
   "id": "3798b224",
   "metadata": {},
   "source": [
    "## Lets "
   ]
  }
 ],
 "metadata": {
  "kernelspec": {
   "display_name": "venv",
   "language": "python",
   "name": "python3"
  },
  "language_info": {
   "codemirror_mode": {
    "name": "ipython",
    "version": 3
   },
   "file_extension": ".py",
   "mimetype": "text/x-python",
   "name": "python",
   "nbconvert_exporter": "python",
   "pygments_lexer": "ipython3",
   "version": "3.12.3"
  }
 },
 "nbformat": 4,
 "nbformat_minor": 5
}
